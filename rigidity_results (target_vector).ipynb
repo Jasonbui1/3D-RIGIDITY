{
 "cells": [
  {
   "cell_type": "code",
   "execution_count": 3,
   "id": "d475fd08-9df7-4f2f-9eae-6af5620e15df",
   "metadata": {},
   "outputs": [
    {
     "name": "stdout",
     "output_type": "stream",
     "text": [
      "Rigidity results saved to 'rigidity_results.csv'.\n"
     ]
    }
   ],
   "source": [
    "import numpy as np\n",
    "from sage.all import Matrix, QQ, vector  # Import from SageMath\n",
    "from sage.graphs.graph_generators import graphs\n",
    "\n",
    "# Define initial 3D vertex coordinates\n",
    "vertices = [\n",
    "    vector([30/10, -40/17, -5/36]),  # p1\n",
    "    vector([0, -1, 0]),              # p2\n",
    "    vector([1/3, 15/46, -3/4]),      # p3\n",
    "    vector([8/17, -9/17, -1/6]),     # p4\n",
    "    vector([0, 3, 0]),               # p5\n",
    "    vector([-18/10, -32/15, 34/19]), # p6\n",
    "    vector([-21/17, -31/13, 32/19]), # p7\n",
    "    vector([11/23, 17/49, -31/42]),  # p8\n",
    "    vector([-8/17, -11/17, -1/7])    # p9\n",
    "]\n",
    "\n",
    "# Function to build the rigidity matrix for a set of vertices and edges\n",
    "def build_rigidity_matrix(vertices, edges):\n",
    "    R = Matrix(QQ, len(edges), len(vertices) * 3)  # Create the matrix based on edges and vertex dimensions\n",
    "    for k, (i, j) in enumerate(edges):\n",
    "        for dim in range(3):\n",
    "            R[k, 3*i + dim] = vertices[j][dim] - vertices[i][dim]\n",
    "            R[k, 3*j + dim] = -vertices[j][dim] + vertices[i][dim]\n",
    "    return R\n",
    "\n",
    "# Function to check rigidity\n",
    "def check_rigidity(vertices, edges):\n",
    "    R = build_rigidity_matrix(vertices, edges)  # Build the rigidity matrix\n",
    "    rank = R.rank()  # Compute the rank of the matrix\n",
    "    n = len(vertices)\n",
    "    expected_rank = 3 * n - 6  # Expected rank for rigidity in 3D\n",
    "    is_rigid = rank == expected_rank  # Check if the graph is rigid\n",
    "    return is_rigid, rank, expected_rank\n",
    "\n",
    "# Generate non-isomorphic graphs with 9 vertices and 21 edges\n",
    "graph_generator = graphs.nauty_geng(\"9 21\")\n",
    "graphs_list = list(graph_generator)\n",
    "\n",
    "# Prepare the CSV file for writing results\n",
    "with open(\"rigidity_results.csv\", \"w\") as f:\n",
    "    # Write header\n",
    "    f.write(\"Is_Rigid\\n\")\n",
    "    \n",
    "    # Process each generated graph\n",
    "    for i, G in enumerate(graphs_list):  \n",
    "        edges = G.edges(labels=False)  # Extract edges without labels\n",
    "        \n",
    "        # Check rigidity for the current graph using predefined vertices\n",
    "        is_rigid, rank, expected_rank = check_rigidity(vertices, edges)\n",
    "        \n",
    "        # Write result (1 for rigid, 0 for flexible)\n",
    "        f.write(f\"{1 if is_rigid else 0}\\n\")\n",
    "\n",
    "print(\"Rigidity results saved to 'rigidity_results.csv'.\")\n"
   ]
  },
  {
   "cell_type": "code",
   "execution_count": null,
   "id": "447ac91e-18af-4e88-9f4e-d86f99150ee5",
   "metadata": {},
   "outputs": [],
   "source": []
  }
 ],
 "metadata": {
  "kernelspec": {
   "display_name": "SageMath 10.4",
   "language": "sage",
   "name": "sagemath"
  },
  "language_info": {
   "codemirror_mode": {
    "name": "ipython",
    "version": 3
   },
   "file_extension": ".py",
   "mimetype": "text/x-python",
   "name": "python",
   "nbconvert_exporter": "python",
   "pygments_lexer": "ipython3",
   "version": "3.10.12"
  }
 },
 "nbformat": 4,
 "nbformat_minor": 5
}
