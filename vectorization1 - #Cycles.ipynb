{
 "cells": [
  {
   "cell_type": "code",
   "execution_count": null,
   "id": "77223d2b-affb-442a-9dc2-cef53a8a37d9",
   "metadata": {},
   "outputs": [],
   "source": [
    "\n"
   ]
  },
  {
   "cell_type": "code",
   "execution_count": 5,
   "id": "12e97b21-6e6a-461a-9296-2a474a4b7a01",
   "metadata": {},
   "outputs": [
    {
     "name": "stdout",
     "output_type": "stream",
     "text": [
      "Cycle counts for each edge:\n",
      "Edge (0, 1): 4 cycles\n",
      "Edge (0, 2): 4 cycles\n",
      "Edge (0, 3): 4 cycles\n",
      "Edge (1, 2): 4 cycles\n",
      "Edge (1, 3): 4 cycles\n",
      "Edge (2, 3): 4 cycles\n"
     ]
    }
   ],
   "source": [
    "# Import NetworkX to work with cycles\n",
    "import networkx as nx\n",
    "\n",
    "# Convert the Sage Graph to a NetworkX graph\n",
    "G_sage = nx.Graph([(0, 1), (0, 2), (0, 3), (1, 2), (2, 3), (3, 1)])\n",
    "G = G_sage.to_directed()  # Convert to a directed graph to find cycles\n",
    "\n",
    "# Function to count cycles containing each edge\n",
    "def count_cycles_for_each_edge(graph):\n",
    "    # Find all simple cycles in the directed graph\n",
    "    all_cycles = list(nx.simple_cycles(graph))\n",
    "    \n",
    "    # Dictionary to store the count of cycles for each edge\n",
    "    edge_cycle_count = {}\n",
    "    \n",
    "    # Iterate over each edge in the original (undirected) graph\n",
    "    for edge in graph.to_undirected().edges():\n",
    "        # Count cycles containing the edge, excluding cycles of length 2\n",
    "        cycle_count = sum(1 for cycle in all_cycles\n",
    "                          if len(cycle) > 2 and  # Exclude cycles of length 2\n",
    "                          edge[0] in cycle and edge[1] in cycle and\n",
    "                          cycle.index(edge[0]) == (cycle.index(edge[1]) - 1) % len(cycle))\n",
    "        \n",
    "        # Store the count in the dictionary\n",
    "        edge_cycle_count[edge] = cycle_count\n",
    "    \n",
    "    return edge_cycle_count\n",
    "\n",
    "# Call the function and print the result\n",
    "edge_cycle_counts = count_cycles_for_each_edge(G)\n",
    "print(\"Cycle counts for each edge:\")\n",
    "for edge, count in edge_cycle_counts.items():\n",
    "    print(f\"Edge {edge}: {count} cycles\")\n",
    "\n"
   ]
  },
  {
   "cell_type": "code",
   "execution_count": 9,
   "id": "9f0410c0-2363-4897-85d7-b20675d98125",
   "metadata": {},
   "outputs": [],
   "source": [
    "# Import the necessary modules\n",
    "from sage.graphs.graph_generators import graphs\n",
    "import csv\n",
    "\n",
    "# Generate non-isomorphic graphs with 9 vertices and 21 edges\n",
    "graph_generator = graphs.nauty_geng(\"9 21\")\n",
    "\n",
    "# Convert the generator to a list to iterate over each graph\n",
    "graphs_list = list(graph_generator)\n",
    "\n",
    "# Step 1: Generate all possible edges for 9 vertices (0 to 8)\n",
    "possible_edges = [(i, j) for i in range(9) for j in range(i + 1, 9)]\n",
    "\n",
    "# Step 2: Create a dictionary mapping each edge to its index in the vector\n",
    "edge_to_index = {edge: idx for idx, edge in enumerate(possible_edges)}\n",
    "\n",
    "# List to store vectorized graphs\n",
    "vectorized_graphs = []\n",
    "\n",
    "# Function to count cycles containing a given edge (excluding length-2 cycles)\n",
    "def count_cycles_with_edge(graph, target_edge):\n",
    "    # Convert the graph to a NetworkX format for cycle enumeration\n",
    "    nx_graph = graph.networkx_graph().to_directed()\n",
    "    all_cycles = list(nx.simple_cycles(nx_graph))  # Find all simple cycles\n",
    "    \n",
    "    # Count cycles containing the target edge, excluding cycles of length 2\n",
    "    count = sum(1 for cycle in all_cycles\n",
    "                if len(cycle) > 2 and \n",
    "                target_edge[0] in cycle and target_edge[1] in cycle and \n",
    "                cycle.index(target_edge[0]) == (cycle.index(target_edge[1]) - 1) % len(cycle))\n",
    "    return count\n",
    "\n",
    "# Step 3: Vectorize each graph based on cycle counts\n",
    "for G in graphs_list:\n",
    "    # Initialize a zero-vector of length 36\n",
    "    vectorized_graph = [0] * len(possible_edges)\n",
    "    \n",
    "    # Calculate the cycle count for each edge in the graph\n",
    "    for edge in G.edges(labels=False):\n",
    "        # Sort the edge to ensure it’s in (min, max) format\n",
    "        canonical_edge = (min(edge[0], edge[1]), max(edge[0], edge[1]))\n",
    "        \n",
    "        # If the edge is in our list of possible edges, count cycles and store in vector\n",
    "        if canonical_edge in edge_to_index:\n",
    "            index = edge_to_index[canonical_edge]\n",
    "            cycle_count = count_cycles_with_edge(G, canonical_edge)\n",
    "            vectorized_graph[index] = cycle_count\n",
    "    \n",
    "    # Append the vectorized form to the list\n",
    "    vectorized_graphs.append(vectorized_graph)\n",
    "\n",
    "# Write the vectorized graphs to a CSV file\n",
    "with open(\"vectorized_graphs1.csv\", \"w\", newline=\"\") as csvfile:\n",
    "    writer = csv.writer(csvfile)\n",
    "    # Optional: Write header (Column names like \"Edge_1\", \"Edge_2\", ...)\n",
    "    writer.writerow([f\"Edge_{i+1}\" for i in range(len(possible_edges))])\n",
    "    # Write each vectorized graph as a row\n",
    "    writer.writerows(vectorized_graphs)\n"
   ]
  },
  {
   "cell_type": "code",
   "execution_count": null,
   "id": "d9377428-7bb8-4267-bd38-7764cafcb377",
   "metadata": {},
   "outputs": [],
   "source": []
  }
 ],
 "metadata": {
  "kernelspec": {
   "display_name": "Python 3 (ipykernel)",
   "language": "python",
   "name": "python3"
  },
  "language_info": {
   "codemirror_mode": {
    "name": "ipython",
    "version": 3
   },
   "file_extension": ".py",
   "mimetype": "text/x-python",
   "name": "python",
   "nbconvert_exporter": "python",
   "pygments_lexer": "ipython3",
   "version": "3.10.12"
  }
 },
 "nbformat": 4,
 "nbformat_minor": 5
}
