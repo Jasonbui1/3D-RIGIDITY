{
 "cells": [
  {
   "cell_type": "code",
   "execution_count": null,
   "id": "2990cc10-df6f-4775-bd14-16dd84f40dce",
   "metadata": {},
   "outputs": [],
   "source": []
  },
  {
   "cell_type": "code",
   "execution_count": null,
   "id": "04ec0391-0d12-44ff-b3fe-58e7b13d4e85",
   "metadata": {},
   "outputs": [
    {
     "name": "stdout",
     "output_type": "stream",
     "text": [
      "All subgraphs with more than 1 edge satisfy Maxwell's count.\n"
     ]
    }
   ],
   "source": [
    "# Define the function to check Maxwell's count for all subgraphs with more than one edge\n",
    "def check_maxwells_count_for_subgraphs(graph):\n",
    "    vertices = graph.vertices()  # Get all vertices of the graph\n",
    "    \n",
    "    # Iterate over all subsets of vertices of size 2 or more\n",
    "    for size in range(2, len(vertices) + 1):\n",
    "        for subgraph_vertices in Subsets(vertices, size):\n",
    "            subgraph = graph.subgraph(subgraph_vertices)  # Get subgraph induced by vertex subset\n",
    "            \n",
    "            # Only consider subgraphs with more than 1 edge\n",
    "            if len(subgraph.edges()) > 1:\n",
    "                E = len(subgraph.edges())  # Number of edges in the subgraph\n",
    "                V = len(subgraph.vertices())  # Number of vertices in the subgraph\n",
    "                \n",
    "                # Check if Maxwell's count: E = 3V - 6\n",
    "                if E > 3 * V - 6:\n",
    "                    return False, subgraph  \n",
    "    return True, None  # If all subgraphs satisfy the condition\n",
    "# Edge list of double-banana graph\n",
    "edges = [(0, 1), (0, 2), (0, 3), (0, 4), (0, 5), (0, 6),\n",
    "         (7, 1), (7, 2), (7, 3), (7, 4), (7, 5), (7, 6),\n",
    "        (1, 2), (2, 3), (1, 3), (4, 5), (5, 6), (6, 4)]\n",
    "\n",
    "# Create the graph\n",
    "G = Graph(edges)\n",
    "\n",
    "# Check if all subgraphs satisfy Maxwell's count\n",
    "result, violating_subgraph = check_maxwells_count_for_subgraphs(G)\n",
    "\n",
    "if result:\n",
    "    print(\"All subgraphs with more than 1 edge satisfy Maxwell's count.\")\n",
    "else:\n",
    "    print(\"A subgraph does not satisfy Maxwell's count. Subgraph details:\")\n",
    "    print(\"Subgraph vertices:\", violating_subgraph.vertices())\n",
    "    print(\"Subgraph edges:\", violating_subgraph.edges())\n"
   ]
  },
  {
   "cell_type": "code",
   "execution_count": null,
   "id": "5a22521f-28bb-4090-b9d3-68ffb4730a56",
   "metadata": {},
   "outputs": [],
   "source": []
  },
  {
   "cell_type": "code",
   "execution_count": null,
   "id": "23857d83-e1d9-4962-9f69-f3d673abc88d",
   "metadata": {},
   "outputs": [
    {
     "name": "stdout",
     "output_type": "stream",
     "text": [
      "The graph is not rigid. Valid combinations of subgraphs:\n",
      "Combination:\n",
      "Subgraph vertices: [0, 1, 2, 3, 7], edges: [(0, 1, None), (0, 2, None), (0, 3, None), (1, 2, None), (1, 3, None), (1, 7, None), (2, 3, None), (2, 7, None), (3, 7, None)]\n",
      "Subgraph vertices: [0, 4, 5, 6, 7], edges: [(0, 4, None), (0, 5, None), (0, 6, None), (4, 5, None), (4, 6, None), (4, 7, None), (5, 6, None), (5, 7, None), (6, 7, None)]\n"
     ]
    }
   ],
   "source": [
    "from itertools import combinations\n",
    "\n",
    "# Generator function to generate all induced subgraphs of a graph\n",
    "def generate_induced_subgraphs(graph):\n",
    "    vertices = graph.vertices()\n",
    "    for size in range(5, len(vertices) + 1): # The smallest banana-shape graph need 5 vertices\n",
    "        for vertex_subset in combinations(vertices, size):\n",
    "            yield graph.subgraph(vertex_subset)  # Use a generator for efficiency\n",
    "\n",
    "# Function to check if a subgraph satisfies Maxwell's count (E = 3V - 6)\n",
    "def check_maxwells_count(E, V):\n",
    "    return E == 3 * V - 6\n",
    "\n",
    "# Function to check if the union of subgraphs satisfies Maxwell's count\n",
    "def check_union_maxwells_count(subgraphs):\n",
    "    all_edges = set()\n",
    "    all_vertices = set()\n",
    "    \n",
    "    for subgraph in subgraphs:\n",
    "        all_edges.update(subgraph.edges())\n",
    "        all_vertices.update(subgraph.vertices())\n",
    "    \n",
    "    E = len(all_edges)\n",
    "    V = len(all_vertices)\n",
    "    return E == 3 * V - 6\n",
    "\n",
    "# Function to check if a combination of subgraphs is connected\n",
    "def check_connectivity(subgraphs):\n",
    "    all_edges = set()\n",
    "    all_vertices = set()\n",
    "\n",
    "    for subgraph in subgraphs:\n",
    "        all_edges.update(subgraph.edges())\n",
    "        all_vertices.update(subgraph.vertices())\n",
    "\n",
    "    union_graph = Graph()\n",
    "    union_graph.add_edges(all_edges)\n",
    "    return union_graph.is_connected()\n",
    "\n",
    "# Function to check the shared vertices condition with exact match\n",
    "def check_shared_vertices(subgraphs):\n",
    "    # Collect all vertices from each subgraph\n",
    "    vertex_sets = [set(subgraph.vertices()) for subgraph in subgraphs]\n",
    "    \n",
    "    # Find the union of all vertices\n",
    "    all_vertices = set.union(*vertex_sets)\n",
    "    \n",
    "    # Count shared vertices (appear in more than one subgraph)\n",
    "    shared_vertex_count = sum(\n",
    "        sum(vertex in vertex_set for vertex_set in vertex_sets) > 1\n",
    "        for vertex in all_vertices\n",
    "    )\n",
    "    \n",
    "    # Check if the number of shared vertices equals the size of the combination\n",
    "    return shared_vertex_count == len(subgraphs)\n",
    "\n",
    "# Main function to check if the graph is rigid\n",
    "def check_rigid_graph(graph):\n",
    "    # Generate all subgraphs of the graph using a generator\n",
    "    all_subgraphs = generate_induced_subgraphs(graph)\n",
    "\n",
    "    # Filter subgraphs that satisfy Maxwell's count\n",
    "    valid_subgraphs = [sg for sg in all_subgraphs if check_maxwells_count(len(sg.edges()), len(sg.vertices()))]\n",
    "\n",
    "    # If there are fewer than 2 valid subgraphs, the graph is rigid\n",
    "    if len(valid_subgraphs) < 2:\n",
    "        return True, []  # Rigid, no possible combinations\n",
    "\n",
    "    # Now check combinations of valid subgraphs\n",
    "    valid_combos = []\n",
    "\n",
    "    for size in range(2, 3):  # Combinations of size 2 or more, here I limit the maximum size to 3 to make the algorithm less computationally expensive\n",
    "        for combo in combinations(valid_subgraphs, size):\n",
    "            if check_union_maxwells_count(combo):  # Check Maxwell's count for the union\n",
    "                if check_connectivity(combo):  # Check if the combination is connected\n",
    "                    if check_shared_vertices(combo):  # Check shared vertices condition\n",
    "                        valid_combos.append(combo)\n",
    "\n",
    "    # If valid combinations exist, the graph is flexible\n",
    "    if valid_combos:\n",
    "        return False, valid_combos  # Flexible, output valid combinations\n",
    "\n",
    "    # Otherwise, the graph is rigid\n",
    "    return True, []  # Rigid, no valid combinations\n",
    "\n",
    "# Edge list of double-banana graph\n",
    "edges = [(0, 1), (0, 2), (0, 3), (0, 4), (0, 5), (0, 6),\n",
    "         (7, 1), (7, 2), (7, 3), (7, 4), (7, 5), (7, 6),\n",
    "        (1, 2), (2, 3), (1, 3), (4, 5), (5, 6), (6, 4)]\n",
    "\n",
    "# Create the graph\n",
    "G = Graph(edges)\n",
    "\n",
    "# Check if the graph is rigid\n",
    "is_rigid, valid_combos = check_rigid_graph(G)\n",
    "\n",
    "if is_rigid:\n",
    "    print(\"The graph is rigid.\")\n",
    "else:\n",
    "    print(\"The graph is not rigid. Valid combinations of subgraphs:\")\n",
    "    for combo in valid_combos:\n",
    "        print(\"Combination:\")\n",
    "        for subgraph in combo:\n",
    "            print(f\"Subgraph vertices: {subgraph.vertices()}, edges: {subgraph.edges()}\")\n"
   ]
  },
  {
   "cell_type": "code",
   "execution_count": 14,
   "id": "f456befa-bfaa-45cf-a155-78d2304f5c6f",
   "metadata": {},
   "outputs": [],
   "source": [
    "\n",
    "def Conjecture(graph):\n",
    "    # Check Maxwell's count condition for subgraphs with more than one edge\n",
    "    result, _ = check_maxwells_count_for_subgraphs(graph)\n",
    "    if not result:\n",
    "        return 0  # If any subgraph violates Maxwell's count, return non-rigid (0)\n",
    "\n",
    "    # Check the rigidity condition\n",
    "    is_rigid, _ = check_rigid_graph(graph)\n",
    "    return 1 if is_rigid else 0  # Return 1 if rigid, 0 if not rigid\n",
    "\n"
   ]
  },
  {
   "cell_type": "code",
   "execution_count": null,
   "id": "764dd819-b42b-4d26-95ce-dd7655e0fbbc",
   "metadata": {},
   "outputs": [],
   "source": [
    "#NEXT, LETS RUN OUR CONJECTURE ON ALL CIRITICAL GRAPHS OF 8 VERTICES AND COMPARE THE RESULT WITH WHAT WE GET FROM USING THE RIGIDITY MATRIX"
   ]
  },
  {
   "cell_type": "code",
   "execution_count": 11,
   "id": "416f7571-fb5c-4b95-b5a9-d7ef0c73bd34",
   "metadata": {},
   "outputs": [
    {
     "name": "stdout",
     "output_type": "stream",
     "text": [
      "Rigidity results: (1, 1, 0, 1, 0, 1, 0, 0, 1, 1, 1, 0, 0, 0, 0, 1, 1, 0, 0, 1, 1, 1, 0, 1, 0, 0, 0, 0, 1, 0, 1, 1, 1, 1, 1, 1, 1, 0, 0, 0, 0, 0, 0, 0, 0, 0, 0, 1, 1, 1, 1, 1, 0, 1, 1, 1, 1, 1, 0, 0, 1, 0, 1, 0, 0, 0, 0, 1, 1, 0, 1, 0, 1, 1, 0, 1, 0, 0, 0, 0, 0, 1, 1, 1, 0, 1, 0, 0, 0, 0, 0, 0, 1, 0, 1, 1, 1, 0, 1, 1, 1, 1, 1, 1, 0, 0, 1, 0, 0, 0, 0, 0, 0, 1, 1, 1, 1, 0, 1, 1, 1, 1, 0, 0, 0, 0, 0, 0, 0, 0, 0, 1, 0, 1, 1, 0, 0, 0, 0, 0, 0, 0, 0, 1, 1, 0, 1, 0, 1, 1, 0, 1, 0, 0, 1, 1, 1, 0, 0, 1, 0, 1, 0, 0, 0, 0, 1, 0, 1, 0, 1, 1, 1, 1, 1, 0, 1, 0, 1, 0, 1, 1, 1, 1, 1, 0, 0, 0, 0, 0, 1, 1, 1, 0, 1, 0, 0, 0, 1, 0, 1, 1, 1, 1, 1, 0, 0, 0, 0, 0, 1, 0, 0, 0, 0, 0, 1, 1, 1, 0, 1, 0, 1, 0, 1, 0, 1, 0, 0, 0, 0, 0, 0, 0, 0, 0, 0, 0, 0, 0, 1, 0, 1, 1, 1, 1, 0, 1, 0, 0, 0, 1, 1, 0, 0, 1, 1, 1, 0, 1, 1, 1, 1, 1, 1, 1, 1, 1, 0, 0, 1, 1, 0, 1, 1, 1, 1, 1, 1, 1, 1, 1, 0, 1, 1, 1, 1, 1, 1, 0, 1, 1, 1, 1, 1, 1, 1, 0, 0, 1, 1, 0, 1, 1, 1, 0, 1, 0, 1, 1, 1, 1, 1, 0, 0, 1, 0, 0, 0, 1, 0, 1, 1, 0, 0, 1, 1, 1, 1, 0, 1, 0, 0, 0, 0, 0, 0, 0, 0, 0, 0, 0, 0, 0, 0, 0, 0, 0, 0, 1, 0, 1, 0, 0, 1, 1, 1, 0, 1, 0, 0, 0, 1, 1, 1, 0, 1, 0, 0, 0, 0, 0, 0, 1, 1, 0, 1, 1, 1, 1, 1, 1, 1, 0, 1, 1, 1, 1, 0, 1, 0, 0, 0, 0, 0, 0, 0, 0, 0, 0, 1, 1, 1, 1, 1, 1, 0, 1, 1, 1, 1, 1, 1, 1, 0, 1, 0, 1, 1, 0, 1, 1, 1, 0, 1, 1, 1, 0, 1, 0, 0, 1, 1, 0, 0, 0, 0, 1, 1, 1, 1, 1, 1, 1, 1, 1, 1, 1, 1, 1, 0, 1, 1, 0, 0, 1, 0, 1, 0, 1, 0, 1, 0, 1, 1, 1, 1, 1, 1, 1, 1, 0, 1, 0, 1, 1, 1, 1, 1, 1, 1, 0, 1, 1, 0, 1, 1, 1, 1, 1, 1, 1, 1, 1, 1, 1, 0, 1, 1, 1, 1, 0, 1, 1, 1, 1, 1, 0, 0, 0, 1, 0, 1, 1, 0, 1, 1, 1, 1, 1, 1, 1, 1, 1, 1, 1, 1, 1, 1, 1, 1, 1, 1, 1, 1, 1, 1, 1, 1, 1, 1, 0, 0, 0, 0, 0, 1, 0, 0, 1, 1, 0, 0, 1, 0, 0, 1, 1, 0, 1, 1, 0, 0, 0, 0, 0, 0, 1, 0, 1, 1, 0, 1, 0, 1, 0, 1, 1, 0, 1, 0, 0, 0, 0, 0, 0, 0, 0, 0, 0, 1, 0, 1, 1, 1, 1, 1, 1, 0, 1, 1, 0, 1, 0, 0, 0, 0, 0, 0, 0, 0, 1, 0, 1, 1, 1, 1, 1, 1, 1, 1, 0, 0, 1, 1, 1, 1, 1, 1, 1, 0, 1, 1, 0, 1, 1, 1, 1, 1, 1, 1, 1, 1, 0, 1, 1, 1, 1, 1, 0, 1, 1, 0, 0, 0, 1, 1, 1, 1, 1, 1, 1, 0)\n"
     ]
    }
   ],
   "source": [
    "import numpy as np\n",
    "from sage.all import Matrix, QQ, vector  # Import from SageMath\n",
    "from sage.graphs.graph_generators import graphs\n",
    "\n",
    "# Define initial 3D vertex coordinates\n",
    "vertices = [\n",
    "    vector([30/10, -40/17, -5/36]),  # p1\n",
    "    vector([0, -1, 0]),              # p2\n",
    "    vector([1/3, 15/46, -3/4]),      # p3\n",
    "    vector([8/17, -9/17, -1/6]),     # p4\n",
    "    vector([0, 3, 0]),               # p5\n",
    "    vector([-18/10, -32/15, 34/19]), # p6\n",
    "    vector([-21/17, -31/13, 32/19]), # p7\n",
    "    vector([11/23, 17/49, -31/42])  # p8\n",
    "]\n",
    "\n",
    "# Function to build the rigidity matrix for a set of vertices and edges\n",
    "def build_rigidity_matrix(vertices, edges):\n",
    "    R = Matrix(QQ, len(edges), len(vertices) * 3)  # Create the matrix based on edges and vertex dimensions\n",
    "    for k, (i, j) in enumerate(edges):\n",
    "        for dim in range(3):\n",
    "            R[k, 3*i + dim] = vertices[j][dim] - vertices[i][dim]\n",
    "            R[k, 3*j + dim] = -vertices[j][dim] + vertices[i][dim]\n",
    "    return R\n",
    "\n",
    "# Function to check rigidity\n",
    "def check_rigidity(vertices, edges):\n",
    "    R = build_rigidity_matrix(vertices, edges)  # Build the rigidity matrix\n",
    "    rank = R.rank()  # Compute the rank of the matrix\n",
    "    n = len(vertices)\n",
    "    expected_rank = 3 * n - 6  # Expected rank for rigidity in 3D\n",
    "    is_rigid = rank == expected_rank  # Check if the graph is rigid\n",
    "    return is_rigid, rank, expected_rank\n",
    "\n",
    "# Generate non-isomorphic graphs with 9 vertices and 21 edges\n",
    "graph_generator = graphs.nauty_geng(\"8 18\")\n",
    "graphs_list = list(graph_generator)\n",
    "\n",
    "# Initialize a list to store the rigidity results\n",
    "rigidity_results = []\n",
    "\n",
    "# Process each generated graph\n",
    "for i, G in enumerate(graphs_list):  \n",
    "    edges = G.edges(labels=False)  # Extract edges without labels\n",
    "    \n",
    "    # Check rigidity for the current graph using predefined vertices\n",
    "    is_rigid, rank, expected_rank = check_rigidity(vertices, edges)\n",
    "    \n",
    "    # Append the result (1 for rigid, 0 for flexible) to the list\n",
    "    rigidity_results.append(1 if is_rigid else 0)\n",
    "\n",
    "# Convert the list of results to a SageMath vector for easier printing\n",
    "rigidity_vector = vector(rigidity_results)\n",
    "\n",
    "# Print the rigidity results\n",
    "print(\"Rigidity results:\", rigidity_vector)"
   ]
  },
  {
   "cell_type": "code",
   "execution_count": 15,
   "id": "d6d2fb0e-1c9e-4e62-80f8-51a99ded3964",
   "metadata": {},
   "outputs": [
    {
     "name": "stdout",
     "output_type": "stream",
     "text": [
      "Conjecture results: (1, 1, 0, 1, 0, 1, 0, 0, 1, 1, 1, 0, 0, 0, 0, 1, 1, 0, 0, 1, 1, 1, 0, 1, 0, 0, 0, 0, 1, 0, 1, 1, 1, 1, 1, 1, 1, 0, 0, 0, 0, 0, 0, 0, 0, 0, 0, 1, 1, 1, 1, 1, 0, 1, 1, 1, 1, 1, 0, 0, 1, 0, 1, 0, 0, 0, 0, 1, 1, 0, 1, 0, 1, 1, 0, 1, 0, 0, 0, 0, 0, 1, 1, 1, 0, 1, 0, 0, 0, 0, 0, 0, 1, 0, 1, 1, 1, 0, 1, 1, 1, 1, 1, 1, 0, 0, 1, 0, 0, 0, 0, 0, 0, 1, 1, 1, 1, 0, 1, 1, 1, 1, 0, 0, 0, 0, 0, 0, 0, 0, 0, 1, 0, 1, 1, 0, 0, 0, 0, 0, 0, 0, 0, 1, 1, 0, 1, 0, 1, 1, 0, 1, 0, 0, 1, 1, 1, 0, 0, 1, 0, 1, 0, 0, 0, 0, 1, 0, 1, 0, 1, 1, 1, 1, 1, 0, 1, 0, 1, 0, 1, 1, 1, 1, 1, 0, 0, 0, 0, 0, 1, 1, 1, 0, 1, 0, 0, 0, 1, 0, 1, 1, 1, 1, 1, 0, 0, 0, 0, 0, 1, 0, 0, 0, 0, 0, 1, 1, 1, 0, 1, 0, 1, 0, 1, 0, 1, 0, 0, 0, 0, 0, 0, 0, 0, 0, 0, 0, 0, 0, 1, 0, 1, 1, 1, 1, 0, 1, 0, 0, 0, 1, 1, 0, 0, 1, 1, 1, 0, 1, 1, 1, 1, 1, 1, 1, 1, 1, 0, 0, 1, 1, 0, 1, 1, 1, 1, 1, 1, 1, 1, 1, 0, 1, 1, 1, 1, 1, 1, 0, 1, 1, 1, 1, 1, 1, 1, 0, 0, 1, 1, 0, 1, 1, 1, 0, 1, 0, 1, 1, 1, 1, 1, 0, 0, 1, 0, 0, 0, 1, 0, 1, 1, 0, 0, 1, 1, 1, 1, 0, 1, 0, 0, 0, 0, 0, 0, 0, 0, 0, 0, 0, 0, 0, 0, 0, 0, 0, 0, 1, 0, 1, 0, 0, 1, 1, 1, 0, 1, 0, 0, 0, 1, 1, 1, 0, 1, 0, 0, 0, 0, 0, 0, 1, 1, 0, 1, 1, 1, 1, 1, 1, 1, 0, 1, 1, 1, 1, 0, 1, 0, 0, 0, 0, 0, 0, 0, 0, 0, 0, 1, 1, 1, 1, 1, 1, 0, 1, 1, 1, 1, 1, 1, 1, 0, 1, 0, 1, 1, 0, 1, 1, 1, 0, 1, 1, 1, 0, 1, 0, 0, 1, 1, 0, 0, 0, 0, 1, 1, 1, 1, 1, 1, 1, 1, 1, 1, 1, 1, 1, 0, 1, 1, 0, 0, 1, 0, 1, 0, 1, 0, 1, 0, 1, 1, 1, 1, 1, 1, 1, 1, 0, 1, 0, 1, 1, 1, 1, 1, 1, 1, 0, 1, 1, 0, 1, 1, 1, 1, 1, 1, 1, 1, 1, 1, 1, 0, 1, 1, 1, 1, 0, 1, 1, 1, 1, 1, 0, 0, 0, 1, 0, 1, 1, 0, 1, 1, 1, 1, 1, 1, 1, 1, 1, 1, 1, 1, 1, 1, 1, 1, 1, 1, 1, 1, 1, 1, 1, 1, 1, 1, 0, 0, 0, 0, 0, 1, 0, 0, 1, 1, 0, 0, 1, 0, 0, 1, 1, 0, 1, 1, 0, 0, 0, 0, 0, 0, 1, 0, 1, 1, 0, 1, 0, 1, 0, 1, 1, 0, 1, 0, 0, 0, 0, 0, 0, 0, 0, 0, 0, 1, 0, 1, 1, 1, 1, 1, 1, 0, 1, 1, 0, 1, 0, 0, 0, 0, 0, 0, 0, 0, 1, 0, 1, 1, 1, 1, 1, 1, 1, 1, 0, 0, 1, 1, 1, 1, 1, 1, 1, 0, 1, 1, 0, 1, 1, 1, 1, 1, 1, 1, 1, 1, 0, 1, 1, 1, 1, 1, 0, 1, 1, 0, 0, 0, 1, 1, 1, 1, 1, 1, 1, 0)\n"
     ]
    }
   ],
   "source": [
    "# Initialize a list to store the conjecture results\n",
    "conjecture_results = []\n",
    "\n",
    "# Loop over each graph in your list of graphs\n",
    "for i, G in enumerate(graphs_list):\n",
    "    # Extract edges without labels (i.e., ignore vertex labels)\n",
    "    edges = G.edges(labels=False)\n",
    "    \n",
    "    # Apply the Conjecture function to each graph with its edges\n",
    "    result = Conjecture(G)\n",
    "    \n",
    "    # Append the result (1 for rigid, 0 for non-rigid) to the list\n",
    "    conjecture_results.append(result)\n",
    "\n",
    "# Convert the list of results to a SageMath vector for easier printing\n",
    "conjecture_vector = vector(conjecture_results)\n",
    "\n",
    "# Print the conjecture results\n",
    "print(\"Conjecture results:\", conjecture_vector)\n"
   ]
  },
  {
   "cell_type": "code",
   "execution_count": 16,
   "id": "e2cc5ab6-c310-4a55-b633-6245a89baa74",
   "metadata": {},
   "outputs": [
    {
     "data": {
      "text/plain": [
       "(0, 0, 0, 0, 0, 0, 0, 0, 0, 0, 0, 0, 0, 0, 0, 0, 0, 0, 0, 0, 0, 0, 0, 0, 0, 0, 0, 0, 0, 0, 0, 0, 0, 0, 0, 0, 0, 0, 0, 0, 0, 0, 0, 0, 0, 0, 0, 0, 0, 0, 0, 0, 0, 0, 0, 0, 0, 0, 0, 0, 0, 0, 0, 0, 0, 0, 0, 0, 0, 0, 0, 0, 0, 0, 0, 0, 0, 0, 0, 0, 0, 0, 0, 0, 0, 0, 0, 0, 0, 0, 0, 0, 0, 0, 0, 0, 0, 0, 0, 0, 0, 0, 0, 0, 0, 0, 0, 0, 0, 0, 0, 0, 0, 0, 0, 0, 0, 0, 0, 0, 0, 0, 0, 0, 0, 0, 0, 0, 0, 0, 0, 0, 0, 0, 0, 0, 0, 0, 0, 0, 0, 0, 0, 0, 0, 0, 0, 0, 0, 0, 0, 0, 0, 0, 0, 0, 0, 0, 0, 0, 0, 0, 0, 0, 0, 0, 0, 0, 0, 0, 0, 0, 0, 0, 0, 0, 0, 0, 0, 0, 0, 0, 0, 0, 0, 0, 0, 0, 0, 0, 0, 0, 0, 0, 0, 0, 0, 0, 0, 0, 0, 0, 0, 0, 0, 0, 0, 0, 0, 0, 0, 0, 0, 0, 0, 0, 0, 0, 0, 0, 0, 0, 0, 0, 0, 0, 0, 0, 0, 0, 0, 0, 0, 0, 0, 0, 0, 0, 0, 0, 0, 0, 0, 0, 0, 0, 0, 0, 0, 0, 0, 0, 0, 0, 0, 0, 0, 0, 0, 0, 0, 0, 0, 0, 0, 0, 0, 0, 0, 0, 0, 0, 0, 0, 0, 0, 0, 0, 0, 0, 0, 0, 0, 0, 0, 0, 0, 0, 0, 0, 0, 0, 0, 0, 0, 0, 0, 0, 0, 0, 0, 0, 0, 0, 0, 0, 0, 0, 0, 0, 0, 0, 0, 0, 0, 0, 0, 0, 0, 0, 0, 0, 0, 0, 0, 0, 0, 0, 0, 0, 0, 0, 0, 0, 0, 0, 0, 0, 0, 0, 0, 0, 0, 0, 0, 0, 0, 0, 0, 0, 0, 0, 0, 0, 0, 0, 0, 0, 0, 0, 0, 0, 0, 0, 0, 0, 0, 0, 0, 0, 0, 0, 0, 0, 0, 0, 0, 0, 0, 0, 0, 0, 0, 0, 0, 0, 0, 0, 0, 0, 0, 0, 0, 0, 0, 0, 0, 0, 0, 0, 0, 0, 0, 0, 0, 0, 0, 0, 0, 0, 0, 0, 0, 0, 0, 0, 0, 0, 0, 0, 0, 0, 0, 0, 0, 0, 0, 0, 0, 0, 0, 0, 0, 0, 0, 0, 0, 0, 0, 0, 0, 0, 0, 0, 0, 0, 0, 0, 0, 0, 0, 0, 0, 0, 0, 0, 0, 0, 0, 0, 0, 0, 0, 0, 0, 0, 0, 0, 0, 0, 0, 0, 0, 0, 0, 0, 0, 0, 0, 0, 0, 0, 0, 0, 0, 0, 0, 0, 0, 0, 0, 0, 0, 0, 0, 0, 0, 0, 0, 0, 0, 0, 0, 0, 0, 0, 0, 0, 0, 0, 0, 0, 0, 0, 0, 0, 0, 0, 0, 0, 0, 0, 0, 0, 0, 0, 0, 0, 0, 0, 0, 0, 0, 0, 0, 0, 0, 0, 0, 0, 0, 0, 0, 0, 0, 0, 0, 0, 0, 0, 0, 0, 0, 0, 0, 0, 0, 0, 0, 0, 0, 0, 0, 0, 0, 0, 0, 0, 0, 0, 0, 0, 0, 0, 0, 0, 0, 0, 0, 0, 0, 0, 0, 0, 0, 0, 0, 0, 0, 0, 0, 0, 0, 0, 0, 0, 0, 0, 0, 0, 0, 0, 0, 0, 0, 0, 0, 0, 0, 0, 0, 0, 0, 0, 0, 0, 0, 0, 0, 0, 0, 0, 0, 0, 0, 0, 0, 0, 0, 0, 0, 0, 0, 0, 0, 0, 0, 0, 0, 0, 0, 0, 0, 0, 0, 0, 0, 0, 0, 0, 0, 0, 0, 0, 0, 0, 0, 0, 0, 0, 0, 0, 0)"
      ]
     },
     "execution_count": 16,
     "metadata": {},
     "output_type": "execute_result"
    }
   ],
   "source": [
    "rigidity_vector-conjecture_vector"
   ]
  },
  {
   "cell_type": "code",
   "execution_count": null,
   "id": "9e17c170-cd36-4f94-8454-b3bb7da68dc6",
   "metadata": {},
   "outputs": [],
   "source": [
    "#NO WRONG PREDICTIONS FOR ALL CIRITICAL GRAPHS OF 8 VERTICES AND 18 EDGES!"
   ]
  },
  {
   "cell_type": "code",
   "execution_count": null,
   "id": "b6cd4992-8bd2-47d4-b9d1-57b4ef8314ed",
   "metadata": {},
   "outputs": [],
   "source": []
  },
  {
   "cell_type": "code",
   "execution_count": null,
   "id": "a670262d-7dc4-4c9b-9b30-32e8e0190223",
   "metadata": {},
   "outputs": [],
   "source": []
  }
 ],
 "metadata": {
  "kernelspec": {
   "display_name": "SageMath 10.4",
   "language": "sage",
   "name": "sagemath"
  },
  "language_info": {
   "codemirror_mode": {
    "name": "ipython",
    "version": 3
   },
   "file_extension": ".py",
   "mimetype": "text/x-python",
   "name": "python",
   "nbconvert_exporter": "python",
   "pygments_lexer": "ipython3",
   "version": "3.10.12"
  }
 },
 "nbformat": 4,
 "nbformat_minor": 5
}
