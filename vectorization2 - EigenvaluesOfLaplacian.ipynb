{
 "cells": [
  {
   "cell_type": "code",
   "execution_count": 7,
   "id": "23f34348-cedc-45f3-9006-dfc14931580f",
   "metadata": {},
   "outputs": [],
   "source": [
    "# Import the necessary modules\n",
    "from sage.graphs.graph_generators import graphs\n",
    "import csv\n",
    "\n",
    "# Generate non-isomorphic graphs with 9 vertices and 21 edges\n",
    "graph_generator = graphs.nauty_geng(\"9 21\")\n",
    "\n",
    "# Convert the generator to a list to iterate over each graph\n",
    "graphs_list = list(graph_generator)\n",
    "\n",
    "# List to store vectorized graphs based on eigenvalues\n",
    "vectorized_graphs = []\n",
    "\n",
    "# Function to compute the Laplacian eigenvalues of a graph, excluding the smallest eigenvalue, and rounding them\n",
    "def laplacian_eigenvalues_vector(graph):\n",
    "    # Compute the Laplacian matrix\n",
    "    L = graph.laplacian_matrix()\n",
    "    \n",
    "    # Compute, sort, and round the eigenvalues, then exclude the smallest eigenvalue (0)\n",
    "    eigenvalues = [round(e, 5) for e in sorted(L.eigenvalues())[1:]]  # Skip the smallest eigenvalue\n",
    "    \n",
    "    return eigenvalues\n",
    "\n",
    "# Step 1: Vectorize each graph based on its rounded Laplacian eigenvalues\n",
    "for G in graphs_list:\n",
    "    # Get the Laplacian eigenvalues (excluding the smallest one) as a vector\n",
    "    eigenvalue_vector = laplacian_eigenvalues_vector(G)\n",
    "    \n",
    "    # Append the vectorized form to the list\n",
    "    vectorized_graphs.append(eigenvalue_vector)\n",
    "\n",
    "# Write the vectorized graphs to a CSV file\n",
    "with open(\"vectorized_graphs2.csv\", \"w\", newline=\"\") as csvfile:\n",
    "    writer = csv.writer(csvfile)\n",
    "    # Write header (Column names like \"Eigenvalue_1\", \"Eigenvalue_2\", ...)\n",
    "    writer.writerow([f\"Eigenvalue_{i+1}\" for i in range(len(vectorized_graphs[0]))])\n",
    "    # Write each vectorized graph as a row\n",
    "    writer.writerows(vectorized_graphs)\n"
   ]
  },
  {
   "cell_type": "code",
   "execution_count": null,
   "id": "36dde1e6-1de5-4693-bc21-3146567627e9",
   "metadata": {},
   "outputs": [],
   "source": []
  }
 ],
 "metadata": {
  "kernelspec": {
   "display_name": "SageMath 10.4",
   "language": "sage",
   "name": "sagemath"
  },
  "language_info": {
   "codemirror_mode": {
    "name": "ipython",
    "version": 3
   },
   "file_extension": ".py",
   "mimetype": "text/x-python",
   "name": "python",
   "nbconvert_exporter": "python",
   "pygments_lexer": "ipython3",
   "version": "3.10.12"
  }
 },
 "nbformat": 4,
 "nbformat_minor": 5
}
