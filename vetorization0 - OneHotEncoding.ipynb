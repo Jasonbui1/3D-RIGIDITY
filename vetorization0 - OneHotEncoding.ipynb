{
 "cells": [
  {
   "cell_type": "code",
   "execution_count": null,
   "id": "a2fecef7-d440-4169-98d1-6fc246a21ce1",
   "metadata": {},
   "outputs": [],
   "source": [
    "\n"
   ]
  },
  {
   "cell_type": "code",
   "execution_count": 18,
   "id": "0979073a-1b68-4518-a9c3-78efe0f0c861",
   "metadata": {},
   "outputs": [],
   "source": [
    "# Import the necessary modules\n",
    "from sage.graphs.graph_generators import graphs\n",
    "import csv\n",
    "\n",
    "# Generate non-isomorphic graphs with 9 vertices and 21 edges\n",
    "graph_generator = graphs.nauty_geng(\"9 21\")\n",
    "\n",
    "# Convert the generator to a list to iterate over each graph\n",
    "graphs_list = list(graph_generator)\n",
    "\n",
    "# Step 1: Generate all possible edges for 9 vertices (0 to 8)\n",
    "possible_edges = [(i, j) for i in range(9) for j in range(i + 1, 9)]\n",
    "\n",
    "# Step 2: Create a dictionary mapping each edge to its index\n",
    "edge_to_index = {edge: idx for idx, edge in enumerate(possible_edges)}\n",
    "\n",
    "# List to store vectorized graphs\n",
    "vectorized_graphs = []\n",
    "\n",
    "# Step 3: Vectorize each graph and store in list\n",
    "for G in graphs_list:\n",
    "    # Initialize a zero-vector of length 36\n",
    "    vectorized_graph = [0] * len(possible_edges)\n",
    "    \n",
    "    # Set vector entries corresponding to edges in the graph to 1\n",
    "    for edge in G.edges(labels=False):\n",
    "        # Sort the edge to ensure it's in (min, max) format\n",
    "        canonical_edge = (min(edge[0], edge[1]), max(edge[0], edge[1]))\n",
    "        # Find the index in the vector and set it to 1\n",
    "        if canonical_edge in edge_to_index:\n",
    "            index = edge_to_index[canonical_edge]\n",
    "            vectorized_graph[index] = 1\n",
    "    \n",
    "    # Append the vectorized form to the list\n",
    "    vectorized_graphs.append(vectorized_graph)\n",
    "\n",
    "# Write the vectorized graphs to a CSV file\n",
    "with open(\"vectorized_graphs.csv\", \"w\", newline=\"\") as csvfile:\n",
    "    writer = csv.writer(csvfile)\n",
    "    # Write header (optional: Column names like \"Edge_1\", \"Edge_2\", ...)\n",
    "    writer.writerow([f\"Edge_{i+1}\" for i in range(len(possible_edges))])\n",
    "    # Write each vectorized graph as a row\n",
    "    writer.writerows(vectorized_graphs)\n"
   ]
  },
  {
   "cell_type": "code",
   "execution_count": null,
   "id": "c7c02927-00eb-41c9-abc0-361347ccc070",
   "metadata": {},
   "outputs": [],
   "source": []
  },
  {
   "cell_type": "code",
   "execution_count": null,
   "id": "7cbc773c-adbb-4e13-8a07-87c0cbaf0f39",
   "metadata": {},
   "outputs": [],
   "source": []
  }
 ],
 "metadata": {
  "kernelspec": {
   "display_name": "SageMath 10.4",
   "language": "sage",
   "name": "sagemath"
  },
  "language_info": {
   "codemirror_mode": {
    "name": "ipython",
    "version": 3
   },
   "file_extension": ".py",
   "mimetype": "text/x-python",
   "name": "python",
   "nbconvert_exporter": "python",
   "pygments_lexer": "ipython3",
   "version": "3.10.12"
  }
 },
 "nbformat": 4,
 "nbformat_minor": 5
}
